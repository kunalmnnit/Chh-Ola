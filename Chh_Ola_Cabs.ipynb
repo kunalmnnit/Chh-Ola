{
  "nbformat": 4,
  "nbformat_minor": 0,
  "metadata": {
    "kernelspec": {
      "name": "python3",
      "display_name": "Python 3"
    },
    "language_info": {
      "codemirror_mode": {
        "name": "ipython",
        "version": 3
      },
      "file_extension": ".py",
      "mimetype": "text/x-python",
      "name": "python",
      "nbconvert_exporter": "python",
      "pygments_lexer": "ipython3",
      "version": "3.6.3"
    },
    "colab": {
      "name": "Chh-Ola Cabs.ipynb",
      "version": "0.3.2",
      "provenance": []
    },
    "accelerator": "GPU"
  },
  "cells": [
    {
      "cell_type": "markdown",
      "metadata": {
        "id": "RI1UA-30TAKh",
        "colab_type": "text"
      },
      "source": [
        "# **IMPORTING LIBRARIES**"
      ]
    },
    {
      "cell_type": "code",
      "metadata": {
        "id": "t-1puTvw9Owz",
        "colab_type": "code",
        "colab": {}
      },
      "source": [
        "import numpy as np\n",
        "import pandas as pd\n",
        "import seaborn as sns\n",
        "import matplotlib.pyplot as plt\n",
        "import datetime as dt\n",
        "from sklearn import metrics\n",
        "from sklearn.model_selection import train_test_split, GridSearchCV\n",
        "from sklearn.ensemble import RandomForestRegressor, AdaBoostRegressor, GradientBoostingRegressor,ExtraTreesRegressor\n",
        "from sklearn.model_selection import learning_curve\n",
        "from sklearn.model_selection import ShuffleSplit\n",
        "import warnings; warnings.simplefilter('ignore')"
      ],
      "execution_count": 0,
      "outputs": []
    },
    {
      "cell_type": "markdown",
      "metadata": {
        "id": "u1EJxLm7T0h_",
        "colab_type": "text"
      },
      "source": [
        "# **IMPORTING DATASET**"
      ]
    },
    {
      "cell_type": "code",
      "metadata": {
        "id": "ZoAVL5Xb9Ow8",
        "colab_type": "code",
        "colab": {}
      },
      "source": [
        "\n",
        "data=pd.read_csv(\"/content/drive/My Drive/train.csv\") #train set\n",
        "test=pd.read_csv(\"/content/drive/My Drive/train.csv\") #test set"
      ],
      "execution_count": 0,
      "outputs": []
    },
    {
      "cell_type": "code",
      "metadata": {
        "id": "IaVB48q-9OxD",
        "colab_type": "code",
        "colab": {
          "base_uri": "https://localhost:8080/",
          "height": 36
        },
        "outputId": "23109b56-b7b0-4c37-c222-29946f4f2d70"
      },
      "source": [
        "data.head() #checking whether imported successfullly\n",
        "data.shape"
      ],
      "execution_count": 9,
      "outputs": [
        {
          "output_type": "execute_result",
          "data": {
            "text/plain": [
              "(1048575, 17)"
            ]
          },
          "metadata": {
            "tags": []
          },
          "execution_count": 9
        }
      ]
    },
    {
      "cell_type": "code",
      "metadata": {
        "id": "-0Xly5GF9OxP",
        "colab_type": "code",
        "colab": {
          "base_uri": "https://localhost:8080/",
          "height": 366
        },
        "outputId": "585e98c9-fc40-4403-acee-63542f22cc43"
      },
      "source": [
        "data.isnull().sum() #checking for null values"
      ],
      "execution_count": 10,
      "outputs": [
        {
          "output_type": "execute_result",
          "data": {
            "text/plain": [
              "ID                    0\n",
              "vendor_id             0\n",
              "pickup_loc            1\n",
              "drop_loc              1\n",
              "driver_tip            2\n",
              "mta_tax               1\n",
              "distance              1\n",
              "pickup_time           1\n",
              "drop_time             1\n",
              "num_passengers        1\n",
              "toll_amount           2\n",
              "payment_method        1\n",
              "rate_code             1\n",
              "stored_flag           1\n",
              "extra_charges         1\n",
              "improvement_charge    2\n",
              "total_amount          2\n",
              "dtype: int64"
            ]
          },
          "metadata": {
            "tags": []
          },
          "execution_count": 10
        }
      ]
    },
    {
      "cell_type": "markdown",
      "metadata": {
        "id": "EkRsIrSDVIAt",
        "colab_type": "text"
      },
      "source": [
        "# **PreProcessing**"
      ]
    },
    {
      "cell_type": "code",
      "metadata": {
        "id": "y53sKDdT9OxU",
        "colab_type": "code",
        "colab": {}
      },
      "source": [
        "data['pickup_time']=pd.to_datetime(data['pickup_time'])\n",
        "data['drop_time']=pd.to_datetime(data['drop_time'])"
      ],
      "execution_count": 0,
      "outputs": []
    },
    {
      "cell_type": "code",
      "metadata": {
        "id": "cYuBCBOv9Oxe",
        "colab_type": "code",
        "colab": {}
      },
      "source": [
        "data['trip_duration']=data['drop_time']-data['pickup_time']"
      ],
      "execution_count": 0,
      "outputs": []
    },
    {
      "cell_type": "code",
      "metadata": {
        "id": "3X0le8No9Oxi",
        "colab_type": "code",
        "colab": {}
      },
      "source": [
        "time=pd.DatetimeIndex(data['trip_duration'])\n",
        "data['trip_duration']=time.hour*60+time.minute"
      ],
      "execution_count": 0,
      "outputs": []
    },
    {
      "cell_type": "code",
      "metadata": {
        "id": "HpHS-nJs9Oxn",
        "colab_type": "code",
        "colab": {}
      },
      "source": [
        "del data['pickup_time']\n",
        "del data['drop_time']\n",
        "del data['ID']\n",
        "del data['vendor_id']\n",
        "del data['drop_loc']\n",
        "del data['pickup_loc']\n",
        "del data['stored_flag']\n",
        "del data['mta_tax']\n",
        "del data['improvement_charge']"
      ],
      "execution_count": 0,
      "outputs": []
    },
    {
      "cell_type": "code",
      "metadata": {
        "id": "FZ0gAzP09Oxs",
        "colab_type": "code",
        "colab": {}
      },
      "source": [
        "data.dropna(inplace=True)"
      ],
      "execution_count": 0,
      "outputs": []
    },
    {
      "cell_type": "code",
      "metadata": {
        "id": "OZWaCFfj9Oxx",
        "colab_type": "code",
        "colab": {
          "base_uri": "https://localhost:8080/",
          "height": 36
        },
        "outputId": "cf882ac4-85c8-426b-e834-23601633764f"
      },
      "source": [
        "data.isnull().sum()\n",
        "data.shape"
      ],
      "execution_count": 16,
      "outputs": [
        {
          "output_type": "execute_result",
          "data": {
            "text/plain": [
              "(1048573, 9)"
            ]
          },
          "metadata": {
            "tags": []
          },
          "execution_count": 16
        }
      ]
    },
    {
      "cell_type": "code",
      "metadata": {
        "id": "AWkLKyn99Ox2",
        "colab_type": "code",
        "colab": {}
      },
      "source": [
        "id_vec = np.array(test.loc[:,test.columns == 'ID'])\n"
      ],
      "execution_count": 0,
      "outputs": []
    },
    {
      "cell_type": "code",
      "metadata": {
        "id": "aVT3EFTp9Ox6",
        "colab_type": "code",
        "colab": {}
      },
      "source": [
        "y=data['total_amount']\n",
        "del data['total_amount']\n",
        "x=data"
      ],
      "execution_count": 0,
      "outputs": []
    },
    {
      "cell_type": "markdown",
      "metadata": {
        "id": "WjxEJ2bSVsad",
        "colab_type": "text"
      },
      "source": [
        "# Building Model"
      ]
    },
    {
      "cell_type": "code",
      "metadata": {
        "id": "ZizPn5mZVYX5",
        "colab_type": "code",
        "colab": {
          "base_uri": "https://localhost:8080/",
          "height": 36
        },
        "outputId": "02f89c27-fac5-454a-d327-86e7441f7e74"
      },
      "source": [
        "train_x,test_x,train_y,test_y=train_test_split(x,y,test_size=.3,random_state=42)\n",
        "model=RandomForestRegressor(random_state=42) #Random Forest Regressor\n",
        "model.fit(train_x,train_y)\n",
        "model.score(train_x,train_y)"
      ],
      "execution_count": 19,
      "outputs": [
        {
          "output_type": "execute_result",
          "data": {
            "text/plain": [
              "0.9412083827429485"
            ]
          },
          "metadata": {
            "tags": []
          },
          "execution_count": 19
        }
      ]
    },
    {
      "cell_type": "code",
      "metadata": {
        "id": "3eCKrT5t9Ox9",
        "colab_type": "code",
        "colab": {
          "base_uri": "https://localhost:8080/",
          "height": 36
        },
        "outputId": "53839192-05e1-46e1-a6d8-9b518143fbc9"
      },
      "source": [
        "model.score(test_x,test_y)"
      ],
      "execution_count": 20,
      "outputs": [
        {
          "output_type": "execute_result",
          "data": {
            "text/plain": [
              "0.9006328326827558"
            ]
          },
          "metadata": {
            "tags": []
          },
          "execution_count": 20
        }
      ]
    },
    {
      "cell_type": "code",
      "metadata": {
        "id": "c87hs1Ed9OyC",
        "colab_type": "code",
        "colab": {
          "base_uri": "https://localhost:8080/",
          "height": 191
        },
        "outputId": "3aeaafb8-3c0c-4ef6-b9ab-8056a28527d6"
      },
      "source": [
        "model1=GradientBoostingRegressor(alpha=0.1,max_depth=3,random_state=42) #Final model For prediction\n",
        "model1.fit(train_x,train_y)"
      ],
      "execution_count": 21,
      "outputs": [
        {
          "output_type": "execute_result",
          "data": {
            "text/plain": [
              "GradientBoostingRegressor(alpha=0.1, criterion='friedman_mse', init=None,\n",
              "                          learning_rate=0.1, loss='ls', max_depth=3,\n",
              "                          max_features=None, max_leaf_nodes=None,\n",
              "                          min_impurity_decrease=0.0, min_impurity_split=None,\n",
              "                          min_samples_leaf=1, min_samples_split=2,\n",
              "                          min_weight_fraction_leaf=0.0, n_estimators=100,\n",
              "                          n_iter_no_change=None, presort='auto',\n",
              "                          random_state=42, subsample=1.0, tol=0.0001,\n",
              "                          validation_fraction=0.1, verbose=0, warm_start=False)"
            ]
          },
          "metadata": {
            "tags": []
          },
          "execution_count": 21
        }
      ]
    },
    {
      "cell_type": "code",
      "metadata": {
        "id": "rrmndrH-9OyF",
        "colab_type": "code",
        "colab": {
          "base_uri": "https://localhost:8080/",
          "height": 36
        },
        "outputId": "589018a5-5b78-40f2-8a46-c150348d08bf"
      },
      "source": [
        "model1.score(train_x,train_y)"
      ],
      "execution_count": 22,
      "outputs": [
        {
          "output_type": "execute_result",
          "data": {
            "text/plain": [
              "0.8415652110398391"
            ]
          },
          "metadata": {
            "tags": []
          },
          "execution_count": 22
        }
      ]
    },
    {
      "cell_type": "code",
      "metadata": {
        "id": "uteQ3XsQ9OyJ",
        "colab_type": "code",
        "colab": {
          "base_uri": "https://localhost:8080/",
          "height": 36
        },
        "outputId": "340daca3-b935-4312-c3f2-253f04bcb481"
      },
      "source": [
        "model1.score(test_x,test_y)"
      ],
      "execution_count": 23,
      "outputs": [
        {
          "output_type": "execute_result",
          "data": {
            "text/plain": [
              "0.9505131553615961"
            ]
          },
          "metadata": {
            "tags": []
          },
          "execution_count": 23
        }
      ]
    },
    {
      "cell_type": "markdown",
      "metadata": {
        "id": "KjNQSlMoWDc8",
        "colab_type": "text"
      },
      "source": [
        "# **Tuning And Improving**"
      ]
    },
    {
      "cell_type": "code",
      "metadata": {
        "id": "QHN2QmCG9OyO",
        "colab_type": "code",
        "colab": {}
      },
      "source": [
        "GBM=GradientBoostingRegressor(random_state=42)\n",
        "gb_param_grid = {'n_estimators' : [100,500],\n",
        "                'learning_rate': [0.1, 0.01],\n",
        "                 'max_depth': [3,8],\n",
        "                'max_features': [0.3, 0.1] \n",
        "                }\n",
        "gsGBM = GridSearchCV(GBM,param_grid = gb_param_grid, cv=5, scoring='neg_mean_squared_error', n_jobs= 4, verbose = 1)\n",
        "gsGBM.fit(train_x,train_y)\n",
        "\n",
        "GBM_best = gsGBM.best_estimator_"
      ],
      "execution_count": 0,
      "outputs": []
    },
    {
      "cell_type": "code",
      "metadata": {
        "id": "HN21UWxd9OyR",
        "colab_type": "code",
        "colab": {}
      },
      "source": [
        "GBM_best.score(train_x,train_y)"
      ],
      "execution_count": 0,
      "outputs": []
    },
    {
      "cell_type": "code",
      "metadata": {
        "id": "2LjXaeRt9OyV",
        "colab_type": "code",
        "colab": {}
      },
      "source": [
        "GBM_best.score(test_x,test_y)"
      ],
      "execution_count": 0,
      "outputs": []
    },
    {
      "cell_type": "markdown",
      "metadata": {
        "id": "XFE1SIQwWQWR",
        "colab_type": "text"
      },
      "source": [
        "# Preparing Test Set for predictions"
      ]
    },
    {
      "cell_type": "code",
      "metadata": {
        "id": "3x04puV79OyZ",
        "colab_type": "code",
        "colab": {
          "base_uri": "https://localhost:8080/",
          "height": 366
        },
        "outputId": "fc3bdd92-5da5-4c67-a2a5-a4c181a67142"
      },
      "source": [
        "test.isnull().sum()"
      ],
      "execution_count": 25,
      "outputs": [
        {
          "output_type": "execute_result",
          "data": {
            "text/plain": [
              "ID                    0\n",
              "vendor_id             0\n",
              "pickup_loc            1\n",
              "drop_loc              1\n",
              "driver_tip            2\n",
              "mta_tax               1\n",
              "distance              1\n",
              "pickup_time           1\n",
              "drop_time             1\n",
              "num_passengers        1\n",
              "toll_amount           2\n",
              "payment_method        1\n",
              "rate_code             1\n",
              "stored_flag           1\n",
              "extra_charges         1\n",
              "improvement_charge    2\n",
              "total_amount          2\n",
              "dtype: int64"
            ]
          },
          "metadata": {
            "tags": []
          },
          "execution_count": 25
        }
      ]
    },
    {
      "cell_type": "code",
      "metadata": {
        "id": "e_KSRlEk9Oyd",
        "colab_type": "code",
        "colab": {}
      },
      "source": [
        "test['pickup_time']=pd.to_datetime(test['pickup_time'])\n",
        "test['drop_time']=pd.to_datetime(test['drop_time'])"
      ],
      "execution_count": 0,
      "outputs": []
    },
    {
      "cell_type": "code",
      "metadata": {
        "id": "i2Jut5gI9Oyh",
        "colab_type": "code",
        "colab": {}
      },
      "source": [
        "test['trip_duration']=test['drop_time']-test['pickup_time']"
      ],
      "execution_count": 0,
      "outputs": []
    },
    {
      "cell_type": "code",
      "metadata": {
        "id": "TKPWe3Zo9Oyj",
        "colab_type": "code",
        "colab": {}
      },
      "source": [
        "time=pd.DatetimeIndex(test['trip_duration'])\n",
        "test['trip_duration']=time.hour*60+time.minute"
      ],
      "execution_count": 0,
      "outputs": []
    },
    {
      "cell_type": "code",
      "metadata": {
        "id": "SowMXb7f9Oyn",
        "colab_type": "code",
        "colab": {}
      },
      "source": [
        "del test['pickup_time']\n",
        "del test['drop_time']\n",
        "del test['ID']\n",
        "del test['vendor_id']\n",
        "del test['drop_loc']\n",
        "del test['pickup_loc']\n",
        "del test['stored_flag']\n",
        "del test['mta_tax']\n",
        "del test['improvement_charge']"
      ],
      "execution_count": 0,
      "outputs": []
    },
    {
      "cell_type": "code",
      "metadata": {
        "id": "8ytn_0pC9Oyp",
        "colab_type": "code",
        "colab": {},
        "outputId": "2ed98c1a-7262-483b-b228-561fa9d78cfc"
      },
      "source": [
        "test.shape"
      ],
      "execution_count": 0,
      "outputs": [
        {
          "output_type": "execute_result",
          "data": {
            "text/plain": [
              "(154235, 8)"
            ]
          },
          "metadata": {
            "tags": []
          },
          "execution_count": 238
        }
      ]
    },
    {
      "cell_type": "markdown",
      "metadata": {
        "id": "QlFbZIT0Wb63",
        "colab_type": "text"
      },
      "source": [
        "# **Predictions**"
      ]
    },
    {
      "cell_type": "code",
      "metadata": {
        "id": "jCTmqQq59Oyu",
        "colab_type": "code",
        "colab": {}
      },
      "source": [
        "predict = model1.predict(test)\n",
        "# predict = predict.reshape(predict.shape[0], 1)\n",
        "# predict = np.concatenate([id_vec, predict], axis=1)\n",
        "# predict = pd.DataFrame(data=predict, columns=['ID', 'total_amount'])\n",
        "# predict.to_csv(\"answer.csv\", index=False, header=True)"
      ],
      "execution_count": 0,
      "outputs": []
    },
    {
      "cell_type": "code",
      "metadata": {
        "id": "Rhw27g699Oyw",
        "colab_type": "code",
        "colab": {},
        "outputId": "53dccbb0-e4f7-4418-9bb5-1e7713dfde52"
      },
      "source": [
        "print(predict)"
      ],
      "execution_count": 0,
      "outputs": [
        {
          "output_type": "stream",
          "text": [
            "[ 7.11729064 14.57231341 16.56904596 ...  9.08122584 14.45557539\n",
            " 16.07017625]\n"
          ],
          "name": "stdout"
        }
      ]
    },
    {
      "cell_type": "code",
      "metadata": {
        "id": "mypjTRrK9Oyz",
        "colab_type": "code",
        "colab": {}
      },
      "source": [
        "predict = pd.DataFrame(data=predict)\n",
        "predict.to_csv(\"answer.csv\", index=False, header=True)"
      ],
      "execution_count": 0,
      "outputs": []
    },
    {
      "cell_type": "code",
      "metadata": {
        "id": "AcQtMAyC9Oy3",
        "colab_type": "code",
        "colab": {}
      },
      "source": [
        "res = model.predict(np.array([[]]))\n",
        "print(res)"
      ],
      "execution_count": 0,
      "outputs": []
    }
  ]
}